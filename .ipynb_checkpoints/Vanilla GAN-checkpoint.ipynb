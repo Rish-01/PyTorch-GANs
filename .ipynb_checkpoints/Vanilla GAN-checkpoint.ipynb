{
 "cells": [
  {
   "cell_type": "code",
   "execution_count": 135,
   "id": "615b25d6",
   "metadata": {},
   "outputs": [],
   "source": [
    "import os\n",
    "\n",
    "import numpy as np\n",
    "import matplotlib.pyplot as plt\n",
    "\n",
    "import torch\n",
    "from torch import nn\n",
    "from torch.optim import Adam\n",
    "from torchvision import transforms, datasets\n",
    "from torch.utils.data import DataLoader\n",
    "import torchvision.utils as utils\n",
    "\n",
    "import warnings\n",
    "warnings.filterwarnings(\"ignore\")"
   ]
  },
  {
   "cell_type": "code",
   "execution_count": 136,
   "id": "0ec01919",
   "metadata": {},
   "outputs": [],
   "source": [
    "# Model runs on GPU if it's available\n",
    "device = 'cuda:0' if torch.cuda.is_available() else 'cpu'\n",
    "\n",
    "# Save the dataset at this directory\n",
    "DATA_DIR_PATH = os.path.join(os.getcwd(), 'data')"
   ]
  },
  {
   "cell_type": "markdown",
   "id": "ecf5d832",
   "metadata": {},
   "source": [
    "# Understanding the data\n",
    "I'll be using the MNIST dataset to train the GAN model."
   ]
  },
  {
   "cell_type": "code",
   "execution_count": 137,
   "id": "f4df4850",
   "metadata": {
    "scrolled": false
   },
   "outputs": [
    {
     "name": "stderr",
     "output_type": "stream",
     "text": [
      "Clipping input data to the valid range for imshow with RGB data ([0..1] for floats or [0..255] for integers).\n"
     ]
    },
    {
     "name": "stdout",
     "output_type": "stream",
     "text": [
      "The shape of the images are: torch.Size([1, 28, 28])\n"
     ]
    },
    {
     "data": {
      "image/png": "[encoded data removed]",
      "text/plain": [
       "<Figure size 640x480 with 1 Axes>"
      ]
     },
     "metadata": {},
     "output_type": "display_data"
    }
   ],
   "source": [
    "batch_size = 64\n",
    "\n",
    "# In the MNIST dataset in PyTorch, the pixel values are automatically normalized to the range [0, 1]\n",
    "# The images are first converted to PyTorch Tensors\n",
    "# The data is then re-normalized to be in the range [-1, 1]\n",
    "transform = transforms.Compose([\n",
    "    transforms.ToTensor(),\n",
    "    transforms.Normalize((0.5,), (0.5,))\n",
    "])\n",
    "\n",
    "# The MNIST dataset is a collection of 70,000 handwritten digits (0-9) with 28x28 pixel resolution images\n",
    "# The above transform will be applied to every image in the dataset\n",
    "mnist_dataset = datasets.MNIST(root=DATA_DIR_PATH, train=True, download=True, transform=transform)\n",
    "\n",
    "# Divides the data into batches of size 'batch_size'\n",
    "mnist_data_loader = DataLoader(mnist_dataset, batch_size=batch_size, shuffle=True, drop_last=True)\n",
    "\n",
    "# Consider the first batch of images\n",
    "images, labels = next(iter(mnist_data_loader)) \n",
    "\n",
    "# What's the shape of the images?\n",
    "print(f'The shape of the images are: {images.shape[1:]}')\n",
    "\n",
    "# Visualize the images\n",
    "no_of_images = 16\n",
    "image_subset = images[:no_of_images] # We take only a subset of images to display\n",
    "\n",
    "grid = utils.make_grid(image_subset, nrow=int(np.sqrt(no_of_images)))\n",
    "\n",
    "plt.title('Images from MNIST dataset')\n",
    "plt.imshow(grid.permute(1, 2, 0)) # Matplotlib takes in images with dimensions of form HWC\n",
    "plt.axis('off')\n",
    "plt.show()"
   ]
  },
  {
   "cell_type": "markdown",
   "id": "2498fac0",
   "metadata": {},
   "source": [
    "## Understanding the Components of GANs\n",
    "GANs have two components:\n",
    "1. <b>Generator Network:</b> The generator network takes a random noise vector as input and generates a new image.\n",
    "2. <b>Discriminator Network:</b> The discriminator network takes an image as input and outputs a scalar value indicating whether the image is real or fake.\n",
    "\n",
    "---\n",
    "\n",
    "### How do the two networks work together?\n",
    "> According to Goodfellow et al. (2014), \"The training procedure for Generator model is to maximize the probability of Discriminator making a mistake. This framework corresponds to a <b>minimax two-player game.<b>\""
   ]
  },
  {
   "cell_type": "markdown",
   "id": "50a7fe21",
   "metadata": {},
   "source": [
    "## Generator Network\n",
    "+ `LeakyReLU` is used as a non-linear activation here.<br>\n",
    "+ `Batch Normalization` is used after each linear layer\n",
    "+ The last layer of the generator network is a `Tanh` function.\n",
    "\n",
    "Learnt some useful insights from https://github.com/soumith/ganhacks"
   ]
  },
  {
   "cell_type": "code",
   "execution_count": 138,
   "id": "fde7e8f8",
   "metadata": {},
   "outputs": [],
   "source": [
    "class Generator(nn.Module):\n",
    "    def __init__(self, noise_dim, image_dim):\n",
    "        super().__init__()\n",
    "        num_neurons_per_layer = [256, 512, 1024]\n",
    "        \n",
    "        self.net = nn.Sequential(\n",
    "            nn.Linear(noise_dim, num_neurons_per_layer[0]),\n",
    "            nn.BatchNorm1d(num_neurons_per_layer[0]),\n",
    "            nn.LeakyReLU(0.2),\n",
    "            nn.Linear(num_neurons_per_layer[0], num_neurons_per_layer[1]),\n",
    "            nn.BatchNorm1d(num_neurons_per_layer[1]),\n",
    "            nn.LeakyReLU(0.2),\n",
    "            nn.Linear(num_neurons_per_layer[1], num_neurons_per_layer[2]),\n",
    "            nn.BatchNorm1d(num_neurons_per_layer[2]),\n",
    "            nn.LeakyReLU(0.2),\n",
    "            nn.Linear(num_neurons_per_layer[2], image_dim),\n",
    "            nn.Tanh()                       \n",
    "        )\n",
    "        \n",
    "    def forward(self, noise):\n",
    "        out = self.net(noise)\n",
    "        return out\n",
    "        "
   ]
  },
  {
   "cell_type": "markdown",
   "id": "fdd6c980",
   "metadata": {},
   "source": [
    "## Discriminator Network"
   ]
  },
  {
   "cell_type": "code",
   "execution_count": 139,
   "id": "656bbbf9",
   "metadata": {},
   "outputs": [],
   "source": [
    "class Discriminator(nn.Module):\n",
    "    def __init__(self, image_dim):\n",
    "        super().__init__()\n",
    "        num_neurons_per_layer = [512, 256, 1]\n",
    "        \n",
    "        self.net = nn.Sequential(\n",
    "            nn.Linear(image_dim, num_neurons_per_layer[0]),\n",
    "            nn.LeakyReLU(0.2),\n",
    "            nn.Linear(num_neurons_per_layer[0], num_neurons_per_layer[1]),\n",
    "            nn.LeakyReLU(0.2),\n",
    "            nn.Linear(num_neurons_per_layer[1], num_neurons_per_layer[2]),\n",
    "            nn.Sigmoid() \n",
    "        )\n",
    "        \n",
    "    def forward(self, image):\n",
    "        out = net(image)\n",
    "        return out"
   ]
  },
  {
   "cell_type": "markdown",
   "id": "cef04ebe",
   "metadata": {},
   "source": [
    "## Understanding the Training Process\n",
    "\n",
    "I have made the following changes to the original paper:\n",
    "1. The original paper used <b>Momentum</b> but I've used <b>Adam optimizer</b> \n",
    "2. <b>Hyperparameter</b> values are not the same as experiments in the original paper<br>\n",
    "\n",
    "---\n",
    "\n",
    "### Notations used\n",
    "D - Discriminator Network<br>\n",
    "G - Generator network<br>\n",
    "z - random noise<br>\n",
    "x - Image from the data<br>\n",
    "\n",
    "---\n",
    "\n",
    "### Loss Function Intuition\n",
    "<b>Discriminator</b> wants to maximize `log(D(x)) + log(1 - D(G(z)))`<br>\n",
    "<b>Generator</b> wants to minimize the above equation but `X = log(1 - D(G(z)))` part can be considered for minimizing<br>\n",
    "With the above equation, we see vanishing gradients when D performs very well which is why we maximize the equation `log(D(G(z))`"
   ]
  },
  {
   "cell_type": "code",
   "execution_count": 142,
   "id": "12381680",
   "metadata": {},
   "outputs": [
    {
     "ename": "RuntimeError",
     "evalue": "CUDA error: unspecified launch failure\nCUDA kernel errors might be asynchronously reported at some other API call,so the stacktrace below might be incorrect.\nFor debugging consider passing CUDA_LAUNCH_BLOCKING=1.",
     "output_type": "error",
     "traceback": [
      "\u001b[0;31m---------------------------------------------------------------------------\u001b[0m",
      "\u001b[0;31mRuntimeError\u001b[0m                              Traceback (most recent call last)",
      "Cell \u001b[0;32mIn[142], line 10\u001b[0m\n\u001b[1;32m      7\u001b[0m \u001b[38;5;66;03m# GAN uses Binary Cross Entropy for it's loss function\u001b[39;00m\n\u001b[1;32m      8\u001b[0m adversarial_loss \u001b[38;5;241m=\u001b[39m nn\u001b[38;5;241m.\u001b[39mBCELoss()\n\u001b[0;32m---> 10\u001b[0m discriminator_net \u001b[38;5;241m=\u001b[39m \u001b[43mDiscriminator\u001b[49m\u001b[43m(\u001b[49m\u001b[43mnoise_dim\u001b[49m\u001b[43m)\u001b[49m\u001b[38;5;241;43m.\u001b[39;49m\u001b[43mtrain\u001b[49m\u001b[43m(\u001b[49m\u001b[43m)\u001b[49m\u001b[38;5;241;43m.\u001b[39;49m\u001b[43mto\u001b[49m\u001b[43m(\u001b[49m\u001b[43mdevice\u001b[49m\u001b[43m)\u001b[49m\n\u001b[1;32m     11\u001b[0m generator_net \u001b[38;5;241m=\u001b[39m Generator(noise_dim, image_dim)\u001b[38;5;241m.\u001b[39mtrain()\u001b[38;5;241m.\u001b[39mto(device)\n\u001b[1;32m     13\u001b[0m discriminator_opt \u001b[38;5;241m=\u001b[39m Adam(discriminator_net\u001b[38;5;241m.\u001b[39mparameters(), lr\u001b[38;5;241m=\u001b[39mlr, betas\u001b[38;5;241m=\u001b[39m(\u001b[38;5;241m0.5\u001b[39m, \u001b[38;5;241m0.999\u001b[39m))\n",
      "File \u001b[0;32m~/miniconda3/envs/pytorch-gans/lib/python3.10/site-packages/torch/nn/modules/module.py:989\u001b[0m, in \u001b[0;36mModule.to\u001b[0;34m(self, *args, **kwargs)\u001b[0m\n\u001b[1;32m    985\u001b[0m         \u001b[38;5;28;01mreturn\u001b[39;00m t\u001b[38;5;241m.\u001b[39mto(device, dtype \u001b[38;5;28;01mif\u001b[39;00m t\u001b[38;5;241m.\u001b[39mis_floating_point() \u001b[38;5;129;01mor\u001b[39;00m t\u001b[38;5;241m.\u001b[39mis_complex() \u001b[38;5;28;01melse\u001b[39;00m \u001b[38;5;28;01mNone\u001b[39;00m,\n\u001b[1;32m    986\u001b[0m                     non_blocking, memory_format\u001b[38;5;241m=\u001b[39mconvert_to_format)\n\u001b[1;32m    987\u001b[0m     \u001b[38;5;28;01mreturn\u001b[39;00m t\u001b[38;5;241m.\u001b[39mto(device, dtype \u001b[38;5;28;01mif\u001b[39;00m t\u001b[38;5;241m.\u001b[39mis_floating_point() \u001b[38;5;129;01mor\u001b[39;00m t\u001b[38;5;241m.\u001b[39mis_complex() \u001b[38;5;28;01melse\u001b[39;00m \u001b[38;5;28;01mNone\u001b[39;00m, non_blocking)\n\u001b[0;32m--> 989\u001b[0m \u001b[38;5;28;01mreturn\u001b[39;00m \u001b[38;5;28;43mself\u001b[39;49m\u001b[38;5;241;43m.\u001b[39;49m\u001b[43m_apply\u001b[49m\u001b[43m(\u001b[49m\u001b[43mconvert\u001b[49m\u001b[43m)\u001b[49m\n",
      "File \u001b[0;32m~/miniconda3/envs/pytorch-gans/lib/python3.10/site-packages/torch/nn/modules/module.py:641\u001b[0m, in \u001b[0;36mModule._apply\u001b[0;34m(self, fn)\u001b[0m\n\u001b[1;32m    639\u001b[0m \u001b[38;5;28;01mdef\u001b[39;00m \u001b[38;5;21m_apply\u001b[39m(\u001b[38;5;28mself\u001b[39m, fn):\n\u001b[1;32m    640\u001b[0m     \u001b[38;5;28;01mfor\u001b[39;00m module \u001b[38;5;129;01min\u001b[39;00m \u001b[38;5;28mself\u001b[39m\u001b[38;5;241m.\u001b[39mchildren():\n\u001b[0;32m--> 641\u001b[0m         \u001b[43mmodule\u001b[49m\u001b[38;5;241;43m.\u001b[39;49m\u001b[43m_apply\u001b[49m\u001b[43m(\u001b[49m\u001b[43mfn\u001b[49m\u001b[43m)\u001b[49m\n\u001b[1;32m    643\u001b[0m     \u001b[38;5;28;01mdef\u001b[39;00m \u001b[38;5;21mcompute_should_use_set_data\u001b[39m(tensor, tensor_applied):\n\u001b[1;32m    644\u001b[0m         \u001b[38;5;28;01mif\u001b[39;00m torch\u001b[38;5;241m.\u001b[39m_has_compatible_shallow_copy_type(tensor, tensor_applied):\n\u001b[1;32m    645\u001b[0m             \u001b[38;5;66;03m# If the new tensor has compatible tensor type as the existing tensor,\u001b[39;00m\n\u001b[1;32m    646\u001b[0m             \u001b[38;5;66;03m# the current behavior is to change the tensor in-place using `.data =`,\u001b[39;00m\n\u001b[0;32m   (...)\u001b[0m\n\u001b[1;32m    651\u001b[0m             \u001b[38;5;66;03m# global flag to let the user control whether they want the future\u001b[39;00m\n\u001b[1;32m    652\u001b[0m             \u001b[38;5;66;03m# behavior of overwriting the existing tensor or not.\u001b[39;00m\n",
      "File \u001b[0;32m~/miniconda3/envs/pytorch-gans/lib/python3.10/site-packages/torch/nn/modules/module.py:641\u001b[0m, in \u001b[0;36mModule._apply\u001b[0;34m(self, fn)\u001b[0m\n\u001b[1;32m    639\u001b[0m \u001b[38;5;28;01mdef\u001b[39;00m \u001b[38;5;21m_apply\u001b[39m(\u001b[38;5;28mself\u001b[39m, fn):\n\u001b[1;32m    640\u001b[0m     \u001b[38;5;28;01mfor\u001b[39;00m module \u001b[38;5;129;01min\u001b[39;00m \u001b[38;5;28mself\u001b[39m\u001b[38;5;241m.\u001b[39mchildren():\n\u001b[0;32m--> 641\u001b[0m         \u001b[43mmodule\u001b[49m\u001b[38;5;241;43m.\u001b[39;49m\u001b[43m_apply\u001b[49m\u001b[43m(\u001b[49m\u001b[43mfn\u001b[49m\u001b[43m)\u001b[49m\n\u001b[1;32m    643\u001b[0m     \u001b[38;5;28;01mdef\u001b[39;00m \u001b[38;5;21mcompute_should_use_set_data\u001b[39m(tensor, tensor_applied):\n\u001b[1;32m    644\u001b[0m         \u001b[38;5;28;01mif\u001b[39;00m torch\u001b[38;5;241m.\u001b[39m_has_compatible_shallow_copy_type(tensor, tensor_applied):\n\u001b[1;32m    645\u001b[0m             \u001b[38;5;66;03m# If the new tensor has compatible tensor type as the existing tensor,\u001b[39;00m\n\u001b[1;32m    646\u001b[0m             \u001b[38;5;66;03m# the current behavior is to change the tensor in-place using `.data =`,\u001b[39;00m\n\u001b[0;32m   (...)\u001b[0m\n\u001b[1;32m    651\u001b[0m             \u001b[38;5;66;03m# global flag to let the user control whether they want the future\u001b[39;00m\n\u001b[1;32m    652\u001b[0m             \u001b[38;5;66;03m# behavior of overwriting the existing tensor or not.\u001b[39;00m\n",
      "File \u001b[0;32m~/miniconda3/envs/pytorch-gans/lib/python3.10/site-packages/torch/nn/modules/module.py:664\u001b[0m, in \u001b[0;36mModule._apply\u001b[0;34m(self, fn)\u001b[0m\n\u001b[1;32m    660\u001b[0m \u001b[38;5;66;03m# Tensors stored in modules are graph leaves, and we don't want to\u001b[39;00m\n\u001b[1;32m    661\u001b[0m \u001b[38;5;66;03m# track autograd history of `param_applied`, so we have to use\u001b[39;00m\n\u001b[1;32m    662\u001b[0m \u001b[38;5;66;03m# `with torch.no_grad():`\u001b[39;00m\n\u001b[1;32m    663\u001b[0m \u001b[38;5;28;01mwith\u001b[39;00m torch\u001b[38;5;241m.\u001b[39mno_grad():\n\u001b[0;32m--> 664\u001b[0m     param_applied \u001b[38;5;241m=\u001b[39m \u001b[43mfn\u001b[49m\u001b[43m(\u001b[49m\u001b[43mparam\u001b[49m\u001b[43m)\u001b[49m\n\u001b[1;32m    665\u001b[0m should_use_set_data \u001b[38;5;241m=\u001b[39m compute_should_use_set_data(param, param_applied)\n\u001b[1;32m    666\u001b[0m \u001b[38;5;28;01mif\u001b[39;00m should_use_set_data:\n",
      "File \u001b[0;32m~/miniconda3/envs/pytorch-gans/lib/python3.10/site-packages/torch/nn/modules/module.py:987\u001b[0m, in \u001b[0;36mModule.to.<locals>.convert\u001b[0;34m(t)\u001b[0m\n\u001b[1;32m    984\u001b[0m \u001b[38;5;28;01mif\u001b[39;00m convert_to_format \u001b[38;5;129;01mis\u001b[39;00m \u001b[38;5;129;01mnot\u001b[39;00m \u001b[38;5;28;01mNone\u001b[39;00m \u001b[38;5;129;01mand\u001b[39;00m t\u001b[38;5;241m.\u001b[39mdim() \u001b[38;5;129;01min\u001b[39;00m (\u001b[38;5;241m4\u001b[39m, \u001b[38;5;241m5\u001b[39m):\n\u001b[1;32m    985\u001b[0m     \u001b[38;5;28;01mreturn\u001b[39;00m t\u001b[38;5;241m.\u001b[39mto(device, dtype \u001b[38;5;28;01mif\u001b[39;00m t\u001b[38;5;241m.\u001b[39mis_floating_point() \u001b[38;5;129;01mor\u001b[39;00m t\u001b[38;5;241m.\u001b[39mis_complex() \u001b[38;5;28;01melse\u001b[39;00m \u001b[38;5;28;01mNone\u001b[39;00m,\n\u001b[1;32m    986\u001b[0m                 non_blocking, memory_format\u001b[38;5;241m=\u001b[39mconvert_to_format)\n\u001b[0;32m--> 987\u001b[0m \u001b[38;5;28;01mreturn\u001b[39;00m \u001b[43mt\u001b[49m\u001b[38;5;241;43m.\u001b[39;49m\u001b[43mto\u001b[49m\u001b[43m(\u001b[49m\u001b[43mdevice\u001b[49m\u001b[43m,\u001b[49m\u001b[43m \u001b[49m\u001b[43mdtype\u001b[49m\u001b[43m \u001b[49m\u001b[38;5;28;43;01mif\u001b[39;49;00m\u001b[43m \u001b[49m\u001b[43mt\u001b[49m\u001b[38;5;241;43m.\u001b[39;49m\u001b[43mis_floating_point\u001b[49m\u001b[43m(\u001b[49m\u001b[43m)\u001b[49m\u001b[43m \u001b[49m\u001b[38;5;129;43;01mor\u001b[39;49;00m\u001b[43m \u001b[49m\u001b[43mt\u001b[49m\u001b[38;5;241;43m.\u001b[39;49m\u001b[43mis_complex\u001b[49m\u001b[43m(\u001b[49m\u001b[43m)\u001b[49m\u001b[43m \u001b[49m\u001b[38;5;28;43;01melse\u001b[39;49;00m\u001b[43m \u001b[49m\u001b[38;5;28;43;01mNone\u001b[39;49;00m\u001b[43m,\u001b[49m\u001b[43m \u001b[49m\u001b[43mnon_blocking\u001b[49m\u001b[43m)\u001b[49m\n",
      "\u001b[0;31mRuntimeError\u001b[0m: CUDA error: unspecified launch failure\nCUDA kernel errors might be asynchronously reported at some other API call,so the stacktrace below might be incorrect.\nFor debugging consider passing CUDA_LAUNCH_BLOCKING=1."
     ]
    }
   ],
   "source": [
    "# Hyperparameters\n",
    "lr = 3e-4\n",
    "num_epochs = 10\n",
    "noise_dim = 28 * 28 * 1\n",
    "image_dim = 28 * 28 * 1 # The dimensions of images in MNIST dataset\n",
    "\n",
    "# GAN uses Binary Cross Entropy for it's loss function\n",
    "adversarial_loss = nn.BCELoss()\n",
    "\n",
    "discriminator_net = Discriminator(noise_dim).train().to(device)\n",
    "generator_net = Generator(noise_dim, image_dim).train().to(device)\n",
    "\n",
    "discriminator_opt = Adam(discriminator_net.parameters(), lr=lr, betas=(0.5, 0.999))\n",
    "generator_opt = Adam(generator_net.parameters(), lr=lr, betas=(0.5, 0.999))\n",
    "\n",
    "ones_tensor = torch.ones((batch_size, 1), device=device)\n",
    "zeros_tensor = torch.zeros((batch_size, 1), device=device)"
   ]
  },
  {
   "cell_type": "code",
   "execution_count": null,
   "id": "2f051182",
   "metadata": {},
   "outputs": [],
   "source": [
    "for epoch in range(num_epochs):\n",
    "    for batch_idx, (real_images, _) in enumerate(mnist_data_loader):\n",
    "        \n",
    "        #-----------------------------------         \n",
    "        # Training the discriminator network\n",
    "        #-----------------------------------\n",
    "        \n",
    "        real_images = real_images.to(device)\n",
    "        \n",
    "        # PyTorch accumulates gradients over the epochs\n",
    "        # Set the gradients at each step to zero\n",
    "        discriminator_net.zero_grad()\n",
    "        \n",
    "        # To configure the BCELoss to log(D(x)), we pass in a tensor of ones \n",
    "        real_discrminator_loss = adverserial_loss(discriminator_net(real_images), ones_tensor) \n",
    "        \n",
    "        \n",
    "        # create random input noise for the generator\n",
    "        noise = torch.randn(batch_size, noise_dim).to(device)         \n",
    "        fake_images = gen(noise)                                        \n",
    "\n",
    "        # To configure the BCELoss to log(D(G(z))), we pass in a tensor of zeros\n",
    "        fake_image = generator_net(noise)\n",
    "        fake_discriminator_loss = adverserial_loss(discriminator_net(fake_image.detatch()), zeros_tensor)\n",
    "        \n",
    "        discriminator_loss = real_discriminator_loss + fake_discriminator_loss\n",
    "        discriminator_loss.backward()\n",
    "        d_opt\n",
    "        \n",
    "        #-----------------------------------         \n",
    "        # Training the Generator network\n",
    "        #-----------------------------------\n",
    "        \n",
    "        "
   ]
  }
 ],
 "metadata": {
  "kernelspec": {
   "display_name": "Python 3 (ipykernel)",
   "language": "python",
   "name": "python3"
  },
  "language_info": {
   "codemirror_mode": {
    "name": "ipython",
    "version": 3
   },
   "file_extension": ".py",
   "mimetype": "text/x-python",
   "name": "python",
   "nbconvert_exporter": "python",
   "pygments_lexer": "ipython3",
   "version": "3.10.9"
  }
 },
 "nbformat": 4,
 "nbformat_minor": 5
}
