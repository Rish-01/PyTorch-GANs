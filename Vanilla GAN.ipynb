{
 "cells": [
  {
   "cell_type": "code",
   "execution_count": null,
   "id": "615b25d6",
   "metadata": {},
   "outputs": [],
   "source": [
    "import os\n",
    "import time\n",
    "import cv2 as cv\n",
    "\n",
    "import numpy as np\n",
    "import matplotlib.pyplot as plt\n",
    "\n",
    "import torch\n",
    "from torch import nn\n",
    "from torch.optim import Adam\n",
    "from torchvision import transforms, datasets\n",
    "from torch.utils.data import DataLoader\n",
    "import torchvision.utils as utils\n",
    "from torchvision.utils import save_image\n",
    "\n",
    "import warnings\n",
    "warnings.filterwarnings(\"ignore\")"
   ]
  },
  {
   "cell_type": "code",
   "execution_count": 46,
   "id": "0ec01919",
   "metadata": {},
   "outputs": [],
   "source": [
    "# Model runs on GPU if it's available\n",
    "device = 'cuda:0' if torch.cuda.is_available() else 'cpu'\n",
    "\n",
    "# Save the dataset at this directory\n",
    "DATA_DIR_PATH = os.path.join(os.getcwd(), 'data')\n",
    "CHECKPOINTS_PATH = os.path.join(os.getcwd(), 'models', 'checkpoints')\n",
    "BINARIES_PATH = os.path.join(os.getcwd(), 'models', 'binaries')\n",
    "INTERMEDIATE_IMAGES = os.path.join(DATA_DIR_PATH, 'intermediate_images')"
   ]
  },
  {
   "cell_type": "markdown",
   "id": "ecf5d832",
   "metadata": {},
   "source": [
    "# Understanding the data\n",
    "I'll be using the MNIST dataset to train the GAN model."
   ]
  },
  {
   "cell_type": "code",
   "execution_count": 47,
   "id": "f4df4850",
   "metadata": {
    "scrolled": false
   },
   "outputs": [
    {
     "name": "stderr",
     "output_type": "stream",
     "text": [
      "Clipping input data to the valid range for imshow with RGB data ([0..1] for floats or [0..255] for integers).\n"
     ]
    },
    {
     "name": "stdout",
     "output_type": "stream",
     "text": [
      "The shape of the images are: torch.Size([1, 28, 28])\n"
     ]
    },
    {
     "data": {
      "image/png": "[encoded data removed]",
      "text/plain": [
       "<Figure size 640x480 with 1 Axes>"
      ]
     },
     "metadata": {},
     "output_type": "display_data"
    }
   ],
   "source": [
    "batch_size = 128\n",
    "\n",
    "# In the MNIST dataset in PyTorch, the pixel values are automatically normalized to the range [0, 1]\n",
    "# The images are first converted to PyTorch Tensors\n",
    "# The data is then re-normalized to be in the range [-1, 1]\n",
    "transform = transforms.Compose([\n",
    "    transforms.ToTensor(),\n",
    "    transforms.Normalize((0.5,), (0.5,))\n",
    "])\n",
    "\n",
    "# The MNIST dataset is a collection of 70,000 handwritten digits (0-9) with 28x28 pixel resolution images\n",
    "# The above transform will be applied to every image in the dataset\n",
    "mnist_dataset = datasets.MNIST(root=DATA_DIR_PATH, train=True, download=True, transform=transform)\n",
    "\n",
    "# Divides the data into batches of size 'batch_size'\n",
    "mnist_data_loader = DataLoader(mnist_dataset, batch_size=batch_size, shuffle=True, drop_last=True)\n",
    "\n",
    "# Consider the first batch of images\n",
    "images, labels = next(iter(mnist_data_loader)) \n",
    "\n",
    "# What's the shape of the images?\n",
    "print(f'The shape of the images are: {images.shape[1:]}')\n",
    "\n",
    "# Visualize the images\n",
    "no_of_images = 16\n",
    "image_subset = images[:no_of_images] # We take only a subset of images to display\n",
    "\n",
    "grid = utils.make_grid(image_subset, nrow=int(np.sqrt(no_of_images)))\n",
    "\n",
    "plt.title('Images from MNIST dataset')\n",
    "plt.imshow(grid.permute(1, 2, 0)) # Matplotlib takes in images with dimensions of form HWC\n",
    "plt.axis('off')\n",
    "plt.show()"
   ]
  },
  {
   "cell_type": "markdown",
   "id": "2498fac0",
   "metadata": {},
   "source": [
    "## Understanding the Components of GANs\n",
    "GANs have two components:\n",
    "1. <b>Generator Network:</b> The generator network takes a random noise vector as input and generates a new image.\n",
    "2. <b>Discriminator Network:</b> The discriminator network takes an image as input and outputs a scalar value indicating whether the image is real or fake.\n",
    "\n",
    "---\n",
    "\n",
    "### How do the two networks work together?\n",
    "> According to Goodfellow et al. (2014), \"The training procedure for Generator model is to maximize the probability of Discriminator making a mistake. This framework corresponds to a <b>minimax two-player game.<b>\""
   ]
  },
  {
   "cell_type": "markdown",
   "id": "50a7fe21",
   "metadata": {},
   "source": [
    "## Generator Network\n",
    "+ `LeakyReLU` is used as a non-linear activation here.<br>\n",
    "+ `Batch Normalization` is used after each linear layer\n",
    "+ The last layer of the generator network is a `Tanh` function.\n",
    "\n",
    "Learnt some useful insights from https://github.com/soumith/ganhacks"
   ]
  },
  {
   "cell_type": "code",
   "execution_count": 48,
   "id": "fde7e8f8",
   "metadata": {},
   "outputs": [],
   "source": [
    "class Generator(nn.Module):\n",
    "    def __init__(self, noise_dim, image_dim):\n",
    "        super().__init__()\n",
    "        num_neurons_per_layer = [256, 512, 1024]\n",
    "        self.noise_dim = noise_dim\n",
    "        self.image_dim = image_dim\n",
    "        \n",
    "        self.net = nn.Sequential(\n",
    "            nn.Linear(self.noise_dim, num_neurons_per_layer[0]),\n",
    "            nn.BatchNorm1d(num_neurons_per_layer[0]),\n",
    "            nn.LeakyReLU(0.2),\n",
    "           \n",
    "            nn.Linear(num_neurons_per_layer[0], num_neurons_per_layer[1]),\n",
    "            nn.BatchNorm1d(num_neurons_per_layer[1]),\n",
    "            nn.LeakyReLU(0.2),\n",
    "            \n",
    "            nn.Linear(num_neurons_per_layer[1], num_neurons_per_layer[2]),\n",
    "            nn.BatchNorm1d(num_neurons_per_layer[2]),\n",
    "            nn.LeakyReLU(0.2),\n",
    "            \n",
    "            nn.Linear(num_neurons_per_layer[2], self.image_dim),\n",
    "            nn.Tanh() # Normalizes the data into [-1, 1] range                       \n",
    "        )\n",
    "        \n",
    "    def forward(self, noise):\n",
    "        image_batch_flattened = self.net(noise) # flattened image of dimension (N, HXW) N -> batch size\n",
    "        # un-flattening image into dimensions (N, 1, 28, 28) for MNIST\n",
    "        return image_batch_flattened.view(image_batch_flattened.shape[0], 1, 28, 28) \n",
    "        "
   ]
  },
  {
   "cell_type": "markdown",
   "id": "fdd6c980",
   "metadata": {},
   "source": [
    "## Discriminator Network"
   ]
  },
  {
   "cell_type": "code",
   "execution_count": 49,
   "id": "656bbbf9",
   "metadata": {},
   "outputs": [],
   "source": [
    "class Discriminator(nn.Module):\n",
    "    def __init__(self, image_dim):\n",
    "        super().__init__()\n",
    "        num_neurons_per_layer = [512, 256, 1]\n",
    "        \n",
    "        self.net = nn.Sequential(\n",
    "            nn.Linear(image_dim, num_neurons_per_layer[0]),\n",
    "            nn.LeakyReLU(0.2),\n",
    "           \n",
    "            nn.Linear(num_neurons_per_layer[0], num_neurons_per_layer[1]),\n",
    "            nn.LeakyReLU(0.2),\n",
    "            \n",
    "            nn.Linear(num_neurons_per_layer[1], num_neurons_per_layer[2]),\n",
    "            nn.Sigmoid() \n",
    "        )\n",
    "        \n",
    "    def forward(self, image):\n",
    "        image_batch_flattened = image.view(image.shape[0], -1) # flatten the image to (N, HxW) N -> batch size\n",
    "        return self.net(image_batch_flattened)\n"
   ]
  },
  {
   "cell_type": "markdown",
   "id": "cef04ebe",
   "metadata": {},
   "source": [
    "## Understanding the Training Process\n",
    "\n",
    "I have made the following changes to the original paper:\n",
    "1. The original paper used <b>Momentum</b> but I've used <b>Adam optimizer</b> \n",
    "2. <b>Hyperparameter</b> values are not the same as experiments in the original paper<br>\n",
    "\n",
    "---\n",
    "\n",
    "### Notations used\n",
    "D - Discriminator Network<br>\n",
    "G - Generator network<br>\n",
    "z - random noise<br>\n",
    "x - Image from the data<br>\n",
    "\n",
    "---\n",
    "\n",
    "### Loss Function Intuition\n",
    "<b>Discriminator</b> wants to maximize `log(D(x)) + log(1 - D(G(z)))`<br>\n",
    "<b>Generator</b> wants to minimize the above equation but `X = log(1 - D(G(z)))` part can be considered for minimizing<br>\n",
    "With loss expression X, we see vanishing gradients when D performs very well which is why we maximize the equation `log(D(G(z))`"
   ]
  },
  {
   "cell_type": "code",
   "execution_count": 50,
   "id": "12381680",
   "metadata": {},
   "outputs": [],
   "source": [
    "# Hyperparameters\n",
    "lr = 3e-4 # A good learning rate for Adam optimizer\n",
    "num_epochs = 10\n",
    "noise_dim = 28 * 28 * 1\n",
    "image_dim = 28 * 28 * 1 # The dimensions of images in MNIST dataset\n",
    "img_cnt = 0\n",
    "int_img_grid_size = 16\n",
    "\n",
    "checkpoint_freq = 2\n",
    "console_log_freq = 50\n",
    "intermediate_image_log_freq = 50\n",
    "\n",
    "generator_loss_values = []\n",
    "discriminator_loss_values = []\n",
    "\n",
    "# GAN uses Binary Cross Entropy for it's loss function\n",
    "adversarial_loss = nn.BCELoss()\n",
    "\n",
    "discriminator_net = Discriminator(noise_dim).train().to(device)\n",
    "generator_net = Generator(noise_dim, image_dim).train().to(device)\n",
    "\n",
    "# We use Adam optimizer for both the neural networks \n",
    "discriminator_opt = Adam(discriminator_net.parameters(), lr=lr, betas=(0.5, 0.999))\n",
    "generator_opt = Adam(generator_net.parameters(), lr=lr, betas=(0.5, 0.999))\n",
    "\n",
    "# Used later to customize the BCELoss function expression according to needs\n",
    "ones_tensor = torch.ones((batch_size, 1), device=device)\n",
    "zeros_tensor = torch.zeros((batch_size, 1), device=device)"
   ]
  },
  {
   "cell_type": "code",
   "execution_count": null,
   "id": "2f051182",
   "metadata": {
    "scrolled": true
   },
   "outputs": [],
   "source": [
    "ts = time.time()\n",
    "for epoch in range(num_epochs):\n",
    "    for batch_idx, (real_images, _) in enumerate(mnist_data_loader):\n",
    "        \n",
    "        #-----------------------------------         \n",
    "        # Training the discriminator network\n",
    "        #-----------------------------------\n",
    "        \n",
    "        real_images = real_images.to(device)\n",
    "        \n",
    "        # PyTorch accumulates gradients over the epochs\n",
    "        # Set the gradients at each step to zero\n",
    "        discriminator_opt.zero_grad()\n",
    "        \n",
    "        # To configure the BCELoss to -log(D(x)), we pass in a tensor of ones \n",
    "        real_discriminator_loss = adversarial_loss(discriminator_net(real_images), ones_tensor) \n",
    "        \n",
    "        \n",
    "        # create random input noise for the generator\n",
    "        noise = torch.randn(batch_size, noise_dim).to(device)         \n",
    "        fake_images = generator_net(noise)                                        \n",
    "\n",
    "        # To configure the BCELoss to -log(1 - D(G(z))), we pass in a tensor of zeros\n",
    "        fake_images_predictions = discriminator_net(fake_images)\n",
    "        fake_discriminator_loss = adversarial_loss(fake_images_predictions, zeros_tensor)\n",
    "        \n",
    "        discriminator_loss = real_discriminator_loss + fake_discriminator_loss\n",
    "        discriminator_loss.backward()\n",
    "        discriminator_opt.step()\n",
    "        \n",
    "        #-----------------------------------         \n",
    "        # Training the Generator network\n",
    "        #-----------------------------------\n",
    "        \n",
    "        generator_opt.zero_grad()\n",
    "        generator_training_noise = torch.randn(batch_size, noise_dim).to(device)\n",
    "        fake_images_generated = generator_net(generator_training_noise)\n",
    "        \n",
    "        generated_image_predictions = discriminator_net(fake_images_generated)\n",
    "        \n",
    "        # To configure the BCELoss to -log(D(G(z))), we pass in a tensor of ones\n",
    "        generator_loss = adversarial_loss(generated_image_predictions, ones_tensor)\n",
    "        generator_loss.backward()\n",
    "        generator_opt.step()\n",
    "        \n",
    "        generator_loss_values.append(generator_loss.item())\n",
    "        discriminator_loss_values.append(discriminator_loss.item())\n",
    "        \n",
    "        # Save intermediate generator images \n",
    "        if batch_idx % intermediate_image_log_freq == 0:\n",
    "            with torch.no_grad():\n",
    "                log_generated_images = generator_net(noise)\n",
    "                log_generated_images_resized = nn.Upsample(scale_factor=2.5, mode='nearest')(log_generated_images)\n",
    "                out_path = os.path.join(INTERMEDIATE_IMAGES, f'{str(img_cnt).zfill(6)}.jpg')\n",
    "                save_image(log_generated_images_resized, out_path, nrow=int(np.sqrt(int_img_grid_size)), normalize=True)\n",
    "                img_cnt += 1\n",
    "        \n",
    "        if batch_idx % console_log_freq == 0:\n",
    "            prefix = 'GAN training: time elapsed'\n",
    "            print(f'{prefix} = {(time.time() - ts):.2f} [s] | epoch={epoch + 1} | batch= [{batch_idx + 1}/{len(mnist_data_loader)}]')\n",
    "            print(f\"Loss D: {discriminator_loss:.4f}, Loss G: {generator_loss:.4f}\")\n",
    "        \n",
    "        # Save generator checkpoint\n",
    "        if (epoch + 1) % checkpoint_freq == 0 and (batch_idx + 1) == 0:\n",
    "            ckpt_model_name = f\"vanilla_ckpt_epoch_{epoch + 1}_batch_{batch_idx + 1}.pth\"\n",
    "            torch.save(generator_net.state_dict(), os.path.join(CHECKPOINTS_PATH, ckpt_model_name))\n",
    "    \n",
    "torch.save(generator_net.state_dict(), os.path.join(BINARIES_PATH, \"model.pth\"))"
   ]
  },
  {
   "cell_type": "markdown",
   "id": "b4a2a094",
   "metadata": {},
   "source": [
    "## Generating new images\n",
    "https://github.com/gordicaleksa/pytorch-GANs is used as a reference for the below code"
   ]
  },
  {
   "cell_type": "code",
   "execution_count": 90,
   "id": "527e52bb",
   "metadata": {},
   "outputs": [],
   "source": [
    "def postprocess_generated_img(generated_img_tensor):\n",
    "    assert isinstance(generated_img_tensor, torch.Tensor), f'Expected PyTorch tensor but got {type(generated_img_tensor)}.'\n",
    "\n",
    "    # Move the tensor from GPU to CPU, convert to numpy array, extract 0th batch, move the image channel\n",
    "    # from 0th to 2nd position (CHW -> HWC)\n",
    "    generated_img = np.moveaxis(generated_img_tensor.to('cpu').numpy()[0], 0, 2)\n",
    "\n",
    "    # Since MNIST images are grayscale (1-channel only) repeat 3 times to get RGB image\n",
    "    generated_img = np.repeat(generated_img,  3, axis=2)\n",
    "\n",
    "    # Imagery is in the range [-1, 1] (generator has tanh as the output activation) move it into [0, 1] range\n",
    "    generated_img -= np.min(generated_img)\n",
    "    generated_img /= np.max(generated_img)\n",
    "\n",
    "    return generated_img\n",
    "\n",
    "def generate_from_random_noise(generator):\n",
    "    with torch.no_grad():  # Tells PyTorch not to compute gradients which would have huge memory footprint\n",
    "        \n",
    "        # Generate a single random (latent) vector\n",
    "        latent_vector = torch.randn(1, noise_dim).to(device)\n",
    "        \n",
    "        # Post process generator output (as it's in the [-1, 1] range)\n",
    "        generated_img = postprocess_generated_img(generator(latent_vector))\n",
    "\n",
    "    return generated_img\n",
    "\n",
    "def save_and_maybe_display_image(dump_dir, dump_img, out_res=(256, 256), should_display=False):\n",
    "    assert isinstance(dump_img, np.ndarray), f'Expected numpy array got {type(dump_img)}.'\n",
    "\n",
    "    # step1: get next valid image name\n",
    "    dump_img_name = \"generated_image.jpg\"\n",
    "\n",
    "    # step2: convert to uint8 format <- OpenCV expects it otherwise your image will be completely black. Don't ask...\n",
    "    if dump_img.dtype != np.uint8:\n",
    "        dump_img = (dump_img*255).astype(np.uint8)\n",
    "\n",
    "    # step3: write image to the file system (::-1 because opencv expects BGR (and not RGB) format...)\n",
    "    cv.imwrite(os.path.join(dump_dir, dump_img_name), cv.resize(dump_img[:, :, ::-1], out_res, interpolation=cv.INTER_NEAREST))  \n",
    "\n",
    "    # step4: maybe display part of the function\n",
    "    if should_display:\n",
    "        plt.imshow(dump_img)\n",
    "        plt.show()\n"
   ]
  },
  {
   "cell_type": "code",
   "execution_count": 131,
   "id": "7fa980e0",
   "metadata": {},
   "outputs": [
    {
     "data": {
      "image/png": "[encoded data removed]",
      "text/plain": [
       "<Figure size 640x480 with 1 Axes>"
      ]
     },
     "metadata": {},
     "output_type": "display_data"
    }
   ],
   "source": [
    "model_path = os.path.join(BINARIES_PATH, 'model.pth')\n",
    "\n",
    "model_state = torch.load(model_path)\n",
    "\n",
    "generator = Generator(28 * 28, 28 * 28).to(device)\n",
    "\n",
    "generator.load_state_dict(generator_net.state_dict())\n",
    "generator.eval()\n",
    "\n",
    "generated_imgs_path = os.path.join(DATA_DIR_PATH, 'generated_imagery')  # this is where we'll dump images\n",
    "os.makedirs(generated_imgs_path, exist_ok=True)\n",
    "\n",
    "generated_img = generate_from_random_noise(generator)\n",
    "save_and_maybe_display_image(generated_imgs_path, generated_img, should_display=True)"
   ]
  }
 ],
 "metadata": {
  "kernelspec": {
   "display_name": "Python 3 (ipykernel)",
   "language": "python",
   "name": "python3"
  },
  "language_info": {
   "codemirror_mode": {
    "name": "ipython",
    "version": 3
   },
   "file_extension": ".py",
   "mimetype": "text/x-python",
   "name": "python",
   "nbconvert_exporter": "python",
   "pygments_lexer": "ipython3",
   "version": "3.10.9"
  }
 },
 "nbformat": 4,
 "nbformat_minor": 5
}
